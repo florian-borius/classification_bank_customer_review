{
 "cells": [
  {
   "cell_type": "markdown",
   "id": "eea04a3f",
   "metadata": {},
   "source": [
    "## Extraction des données par Web scraping"
   ]
  },
  {
   "cell_type": "code",
   "execution_count": null,
   "id": "8841bb68",
   "metadata": {},
   "outputs": [],
   "source": [
    "# Importation de librairies\n",
    "import requests\n",
    "from bs4 import BeautifulSoup as bs\n",
    "import pandas as pd\n",
    "import re\n",
    "import os"
   ]
  },
  {
   "cell_type": "code",
   "execution_count": null,
   "id": "c4c98a6b",
   "metadata": {},
   "outputs": [],
   "source": [
    "# Fonction pour scraper - depuis le site web TrustPilot - les avis clients d'une entreprise donnée et les sauvegarder dans un fichier CSV\n",
    "def scrape_save_reviews(url, start_page=1):\n",
    "\n",
    "    \"\"\"\n",
    "    Definition :\n",
    "    - Scrapes customer reviews across multiple pages from a given company's TrustPilot URL.\n",
    "    - Saves the scraped reviews into a CSV file.\n",
    "\n",
    "    Parameters :\n",
    "    - url (str) : The TrustPilot URL of the company's page to scrape reviews from.\n",
    "    (e.g. : https://fr.trustpilot.com/review/boursobank.com , https://fr.trustpilot.com/review/fortuneo.fr, https://fr.trustpilot.com/review/hellobank.fr, https://fr.trustpilot.com/review/www.monabanq.com)\n",
    "    - start_page (int) : The page number to start scraping from. Default is 1.\n",
    "    \n",
    "    Returns :\n",
    "    - A Pandas DataFrame containing the scraped reviews.\n",
    "    \"\"\"\n",
    "\n",
    "    # Récupération de la réponse HTTPS de la page d'une entreprise\n",
    "    response = requests.get(url)\n",
    "\n",
    "    if response.status_code == 200:\n",
    "        \n",
    "        # Création d'un objet BeautifulSoup à partir du contenu HTML récupéré\n",
    "        soup = bs(response.text, 'lxml')\n",
    "\n",
    "        # Récupération du nombre de pages\n",
    "        total_pages = int(soup.find('a', attrs={'name': 'pagination-button-last'}).text.strip())\n",
    "\n",
    "        # Création d'un dictionnaire avec différentes variables\n",
    "        data = {\n",
    "            'pseudo': [],\n",
    "            'publication_date': [],\n",
    "            'rating': [],\n",
    "            'title': [],\n",
    "            'review': [],\n",
    "            'experience_date': [],\n",
    "            'total_reviews': []\n",
    "            #'country': []\n",
    "        }\n",
    "        \n",
    "        # Boucle sur les pages\n",
    "        for page in range(start_page, total_pages + 1):\n",
    "\n",
    "            # Récupération de la réponse HTTPS de la n-ième page\n",
    "            response = requests.get(url + '?page=' + str(page))\n",
    "\n",
    "            if response.status_code == 200:\n",
    "\n",
    "                # Création d'un objet BeautifulSoup à partir du contenu HTML récupéré\n",
    "                soup = bs(response.text, 'lxml')\n",
    "\n",
    "                # Récupération des avis\n",
    "                reviews = soup.find_all('div', class_='styles_cardWrapper__kOLEb styles_show__qAseP')\n",
    "\n",
    "                # Boucle sur les avis\n",
    "                for review in reviews:\n",
    "        \n",
    "                    # Pseudo du client\n",
    "                    pseudo_element = review.find('span', class_='typography_heading-xs__osRhC typography_appearance-default__t8iAq')\n",
    "                    data['pseudo'].append(pseudo_element.text.strip() if pseudo_element else '')\n",
    "\n",
    "                    # Date de publication de l'avis du client\n",
    "                    publication_date_element = review.find('time')['datetime']\n",
    "                    data['publication_date'].append(publication_date_element.strip() if publication_date_element else '')\n",
    "\n",
    "                    # Note liée à l'avis du client\n",
    "                    rating_element = review.find('div', class_='styles_reviewHeader__PuHBd')['data-service-review-rating']\n",
    "                    data['rating'].append(rating_element.strip() if rating_element else '')\n",
    "                 \n",
    "                    # Titre de l'avis du client\n",
    "                    title_element = review.find('h2', class_='typography_heading-xs__osRhC typography_appearance-default__t8iAq')\n",
    "                    data['title'].append(title_element.text.strip() if title_element else '')\n",
    "                \n",
    "                    # Texte de l'avis du client\n",
    "                    review_element = review.find('p', class_='typography_body-l__v5JLj typography_appearance-default__t8iAq')\n",
    "                    data['review'].append(review_element.text.strip() if review_element else '')\n",
    "\n",
    "                    # Date de l'expérience du client\n",
    "                    experience_date_element = review.find('p', class_='typography_body-m__k2UI7 typography_appearance-default__t8iAq').find('span')\n",
    "                    data['experience_date'].append(experience_date_element.text.strip() if experience_date_element else '')\n",
    "                    \n",
    "                    # Nombre d'avis du client\n",
    "                    total_reviews_element = review.find('div', class_='styles_consumerExtraDetails__TylYM')['data-consumer-reviews-count']\n",
    "                    data['total_reviews'].append(total_reviews_element.strip() if total_reviews_element else '')\n",
    "                    \n",
    "                    # Pays du client\n",
    "                    #country_element = review.find('div', class_='typography_body-m__xgxZ_ typography_appearance-subtle__8_H2l styles_detailsIcon__Fo_ua')\n",
    "                    #data['country'].append(country_element.text.strip() if country_element else '')\n",
    "                    \n",
    "            else:\n",
    "                print('Erreur lors de la récupération de la page', page, ': erreur', response.status_code)\n",
    "                break\n",
    "\n",
    "        # Création d'un DataFrame à partir du dictionnaire \"data\"\n",
    "        df = pd.DataFrame(data)\n",
    "\n",
    "        # Récupération du nom de la banque dans l'URL et Ajout d'une colonne \"bank\" dans le DataFrame\n",
    "        match = re.search(r'/review/(?:www\\.)?(.*?)\\.', url)\n",
    "        df['bank'] = match.group(1)\n",
    "\n",
    "        # Sauvegarde du DataFrame dans un fichier CSV\n",
    "        df.to_csv('../data/raw/scraped_reviews_' + match.group(1) + '_pages_' + str(start_page) + '_to_' + str(page-1) + '.csv', index=False)\n",
    "\n",
    "        return df\n",
    "  \n",
    "    else:\n",
    "        print('Erreur lors de la récupération de la 1re page', ': erreur', response.status_code)"
   ]
  },
  {
   "cell_type": "code",
   "execution_count": null,
   "id": "350d92ac",
   "metadata": {},
   "outputs": [
    {
     "name": "stderr",
     "output_type": "stream",
     "text": [
      "UsageError: Line magic function `%%time` not found.\n"
     ]
    }
   ],
   "source": [
    "# Scraping des avis clients d'une entreprise donnée et Sauvegarde dans un fichier CSV\n",
    "\n",
    "# >>> ATTENTION ! <<< des fichiers CSV existent déjà dans \"data/raw/\"\n",
    "\n",
    "%%time\n",
    "#df = scrape_save_reviews('https://fr.trustpilot.com/review/www.monabanq.com', 1)\n",
    "\n",
    "# Affichage des 5 premières lignes\n",
    "df.head()"
   ]
  },
  {
   "cell_type": "code",
   "execution_count": null,
   "id": "7c0d6585",
   "metadata": {},
   "outputs": [],
   "source": [
    "# Fonction pour concaténer des fichiers CSV et les sauvegarder dans un fichier CSV unique\n",
    "def concat_save_csv_files(file_prefix):\n",
    "\n",
    "    \"\"\"\n",
    "    Definition :\n",
    "    - Concatenates CSV files.\n",
    "    - Saves the concatenated CSV files into a CSV file.\n",
    "\n",
    "    Parameters :\n",
    "    - file_prefix (str) : The prefix of the CSV file.\n",
    "    (e.g. : scraped_reviews)\n",
    "    \n",
    "    Returns :\n",
    "    - A Pandas DataFrame containing the concatenated CSV files.\n",
    "    \"\"\"\n",
    "\n",
    "    # Récupération des fichiers dont le nom comporte le préfixe et qui se termine par un nombre suivi de l'extension \".csv\"\n",
    "    files = [file for file in os.listdir('../data/raw/') if file.startswith(file_prefix) and re.search(r'\\d+\\.csv$', file)]\n",
    "\n",
    "    # Création d'une liste de DataFrames en lisant chaque fichier CSV\n",
    "    dfs = [pd.read_csv(os.path.join('../data/raw/', file)) for file in files]\n",
    "    \n",
    "    # Concaténation des DataFrames à partir de la liste de DataFrames \"dfs\"\n",
    "    dfs_concatenated = pd.concat(dfs, ignore_index=True)\n",
    "\n",
    "    # Sauvegarde du DataFrame dans un fichier CSV\n",
    "    dfs_concatenated.to_csv('../data/raw/scraped_reviews_final.csv', index=False)\n",
    "    \n",
    "    return dfs_concatenated"
   ]
  },
  {
   "cell_type": "code",
   "execution_count": null,
   "id": "ebcc9fbe",
   "metadata": {},
   "outputs": [
    {
     "name": "stdout",
     "output_type": "stream",
     "text": [
      "CPU times: user 733 ms, sys: 77.8 ms, total: 811 ms\n",
      "Wall time: 817 ms\n"
     ]
    },
    {
     "data": {
      "application/vnd.microsoft.datawrangler.viewer.v0+json": {
       "columns": [
        {
         "name": "index",
         "rawType": "int64",
         "type": "integer"
        },
        {
         "name": "pseudo",
         "rawType": "object",
         "type": "string"
        },
        {
         "name": "publication_date",
         "rawType": "object",
         "type": "string"
        },
        {
         "name": "rating",
         "rawType": "int64",
         "type": "integer"
        },
        {
         "name": "title",
         "rawType": "object",
         "type": "string"
        },
        {
         "name": "review",
         "rawType": "object",
         "type": "string"
        },
        {
         "name": "experience_date",
         "rawType": "object",
         "type": "string"
        },
        {
         "name": "total_reviews",
         "rawType": "int64",
         "type": "integer"
        },
        {
         "name": "bank",
         "rawType": "object",
         "type": "string"
        }
       ],
       "conversionMethod": "pd.DataFrame",
       "ref": "4fb9ee24-2c15-44c0-b631-581e62286c75",
       "rows": [
        [
         "0",
         "GERARD CATALA",
         "2025-03-07T13:48:17.000Z",
         "5",
         "Banque pas chère",
         "Banque pas chère",
         "07 mars 2025",
         "13",
         "boursobank"
        ],
        [
         "1",
         "JFD",
         "2025-03-07T13:45:35.000Z",
         "5",
         "Modif plafond retrait",
         "Gestion aisée de mon compte. Pas de frais, aucun problème.",
         "07 mars 2025",
         "2",
         "boursobank"
        ],
        [
         "2",
         "Catherine B",
         "2025-03-07T13:35:24.000Z",
         "5",
         "Facilité",
         "Rajouter un bénéficiaire et tout s'est bien déroulé.",
         "07 mars 2025",
         "1",
         "boursobank"
        ],
        [
         "3",
         "Amir B",
         "2025-03-07T13:20:03.000Z",
         "4",
         "Trop d'étape de sécurité",
         "J'ai mis 4 étoiles parce que je trouve qu'il a beaucoup etapes de sécurité C'est compréhensif mais ça mis trop de temps et trop d'étape pour faire un truc simple C'était juste mes débuts peut-être après je changerai d'avis 😉",
         "01 mars 2025",
         "1",
         "boursobank"
        ],
        [
         "4",
         "Fontaine Joël",
         "2025-03-07T12:28:32.000Z",
         "4",
         "Je recommande cette carte pour les…",
         "Je recommande cette carte pour les voyageurs et pour les commandes sur internet",
         "06 mars 2025",
         "6",
         "boursobank"
        ]
       ],
       "shape": {
        "columns": 8,
        "rows": 5
       }
      },
      "text/html": [
       "<div>\n",
       "<style scoped>\n",
       "    .dataframe tbody tr th:only-of-type {\n",
       "        vertical-align: middle;\n",
       "    }\n",
       "\n",
       "    .dataframe tbody tr th {\n",
       "        vertical-align: top;\n",
       "    }\n",
       "\n",
       "    .dataframe thead th {\n",
       "        text-align: right;\n",
       "    }\n",
       "</style>\n",
       "<table border=\"1\" class=\"dataframe\">\n",
       "  <thead>\n",
       "    <tr style=\"text-align: right;\">\n",
       "      <th></th>\n",
       "      <th>pseudo</th>\n",
       "      <th>publication_date</th>\n",
       "      <th>rating</th>\n",
       "      <th>title</th>\n",
       "      <th>review</th>\n",
       "      <th>experience_date</th>\n",
       "      <th>total_reviews</th>\n",
       "      <th>bank</th>\n",
       "    </tr>\n",
       "  </thead>\n",
       "  <tbody>\n",
       "    <tr>\n",
       "      <th>0</th>\n",
       "      <td>GERARD CATALA</td>\n",
       "      <td>2025-03-07T13:48:17.000Z</td>\n",
       "      <td>5</td>\n",
       "      <td>Banque pas chère</td>\n",
       "      <td>Banque pas chère</td>\n",
       "      <td>07 mars 2025</td>\n",
       "      <td>13</td>\n",
       "      <td>boursobank</td>\n",
       "    </tr>\n",
       "    <tr>\n",
       "      <th>1</th>\n",
       "      <td>JFD</td>\n",
       "      <td>2025-03-07T13:45:35.000Z</td>\n",
       "      <td>5</td>\n",
       "      <td>Modif plafond retrait</td>\n",
       "      <td>Gestion aisée de mon compte. Pas de frais, auc...</td>\n",
       "      <td>07 mars 2025</td>\n",
       "      <td>2</td>\n",
       "      <td>boursobank</td>\n",
       "    </tr>\n",
       "    <tr>\n",
       "      <th>2</th>\n",
       "      <td>Catherine B</td>\n",
       "      <td>2025-03-07T13:35:24.000Z</td>\n",
       "      <td>5</td>\n",
       "      <td>Facilité</td>\n",
       "      <td>Rajouter un bénéficiaire et tout s'est bien dé...</td>\n",
       "      <td>07 mars 2025</td>\n",
       "      <td>1</td>\n",
       "      <td>boursobank</td>\n",
       "    </tr>\n",
       "    <tr>\n",
       "      <th>3</th>\n",
       "      <td>Amir B</td>\n",
       "      <td>2025-03-07T13:20:03.000Z</td>\n",
       "      <td>4</td>\n",
       "      <td>Trop d'étape de sécurité</td>\n",
       "      <td>J'ai mis 4 étoiles parce que je trouve qu'il a...</td>\n",
       "      <td>01 mars 2025</td>\n",
       "      <td>1</td>\n",
       "      <td>boursobank</td>\n",
       "    </tr>\n",
       "    <tr>\n",
       "      <th>4</th>\n",
       "      <td>Fontaine Joël</td>\n",
       "      <td>2025-03-07T12:28:32.000Z</td>\n",
       "      <td>4</td>\n",
       "      <td>Je recommande cette carte pour les…</td>\n",
       "      <td>Je recommande cette carte pour les voyageurs e...</td>\n",
       "      <td>06 mars 2025</td>\n",
       "      <td>6</td>\n",
       "      <td>boursobank</td>\n",
       "    </tr>\n",
       "  </tbody>\n",
       "</table>\n",
       "</div>"
      ],
      "text/plain": [
       "          pseudo          publication_date  rating  \\\n",
       "0  GERARD CATALA  2025-03-07T13:48:17.000Z       5   \n",
       "1            JFD  2025-03-07T13:45:35.000Z       5   \n",
       "2    Catherine B  2025-03-07T13:35:24.000Z       5   \n",
       "3         Amir B  2025-03-07T13:20:03.000Z       4   \n",
       "4  Fontaine Joël  2025-03-07T12:28:32.000Z       4   \n",
       "\n",
       "                                 title  \\\n",
       "0                     Banque pas chère   \n",
       "1                Modif plafond retrait   \n",
       "2                             Facilité   \n",
       "3             Trop d'étape de sécurité   \n",
       "4  Je recommande cette carte pour les…   \n",
       "\n",
       "                                              review experience_date  \\\n",
       "0                                   Banque pas chère    07 mars 2025   \n",
       "1  Gestion aisée de mon compte. Pas de frais, auc...    07 mars 2025   \n",
       "2  Rajouter un bénéficiaire et tout s'est bien dé...    07 mars 2025   \n",
       "3  J'ai mis 4 étoiles parce que je trouve qu'il a...    01 mars 2025   \n",
       "4  Je recommande cette carte pour les voyageurs e...    06 mars 2025   \n",
       "\n",
       "   total_reviews        bank  \n",
       "0             13  boursobank  \n",
       "1              2  boursobank  \n",
       "2              1  boursobank  \n",
       "3              1  boursobank  \n",
       "4              6  boursobank  "
      ]
     },
     "execution_count": 152,
     "metadata": {},
     "output_type": "execute_result"
    }
   ],
   "source": [
    "# Concaténation des fichiers CSV et Sauvegarde dans un fichier CSV unique\n",
    "\n",
    "# >>> ATTENTION ! <<< un fichier CSV existe déjà dans \"data/raw/\"\n",
    "\n",
    "%%time\n",
    "#dfs_concatenated = concat_save_csv_files('scraped_reviews')\n",
    "\n",
    "# Affichage des 5 premières lignes\n",
    "dfs_concatenated.head()"
   ]
  },
  {
   "cell_type": "code",
   "execution_count": null,
   "id": "35f235e9",
   "metadata": {},
   "outputs": [
    {
     "data": {
      "text/plain": [
       "(55198, 8)"
      ]
     },
     "execution_count": 153,
     "metadata": {},
     "output_type": "execute_result"
    }
   ],
   "source": [
    "dfs_concatenated.shape"
   ]
  }
 ],
 "metadata": {
  "kernelspec": {
   "display_name": "Python 3",
   "language": "python",
   "name": "python3"
  },
  "language_info": {
   "codemirror_mode": {
    "name": "ipython",
    "version": 3
   },
   "file_extension": ".py",
   "mimetype": "text/x-python",
   "name": "python",
   "nbconvert_exporter": "python",
   "pygments_lexer": "ipython3",
   "version": "3.11.11"
  }
 },
 "nbformat": 4,
 "nbformat_minor": 5
}
